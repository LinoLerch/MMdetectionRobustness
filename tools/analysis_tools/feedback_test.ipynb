{
 "cells": [
  {
   "cell_type": "markdown",
   "metadata": {},
   "source": [
    "ResNet 50 output sizes of stages"
   ]
  },
  {
   "cell_type": "code",
   "execution_count": 1,
   "metadata": {},
   "outputs": [
    {
     "name": "stderr",
     "output_type": "stream",
     "text": [
      "c:\\Users\\lerch\\anaconda3\\envs\\cv_project\\lib\\site-packages\\mmcv\\__init__.py:20: UserWarning: On January 1, 2023, MMCV will release v2.0.0, in which it will remove components related to the training process and add a data transformation module. In addition, it will rename the package names mmcv to mmcv-lite and mmcv-full to mmcv. See https://github.com/open-mmlab/mmcv/blob/master/docs/en/compatibility.md for more details.\n",
      "  warnings.warn(\n"
     ]
    },
    {
     "name": "stdout",
     "output_type": "stream",
     "text": [
      "(1, 256, 56, 56)\n",
      "(1, 512, 28, 28)\n",
      "(1, 1024, 14, 14)\n",
      "(1, 2048, 7, 7)\n"
     ]
    }
   ],
   "source": [
    "from mmdet.models import ResNet\n",
    "import torch\n",
    "self = ResNet(depth=50)\n",
    "self.eval()\n",
    "inputs =  torch.rand(1, 3, 224, 224)\n",
    "level_outputs = self.forward(inputs)\n",
    "for level_out in level_outputs:\n",
    "    print(tuple(level_out.shape))"
   ]
  },
  {
   "cell_type": "markdown",
   "metadata": {},
   "source": [
    "### Test inference FeedbackNet"
   ]
  },
  {
   "cell_type": "code",
   "execution_count": 1,
   "metadata": {},
   "outputs": [],
   "source": [
    "# adjust keys in checkpoint weights file\n",
    "import torch\n",
    "checkpoint = torch.load('checkpoints/faster_rcnn_r50_fpn_1x_voc0712_20220320_192712-54bef0f3.pth')\n",
    "state_dict = checkpoint['state_dict']\n",
    "for key in list(state_dict.keys()):\n",
    "    state_dict[key.replace(\"backbone.\",\"backbone.resnet.\")] = state_dict.pop(key)\n",
    "checkpoint['state_dict'] = state_dict\n",
    "torch.save(checkpoint, 'checkpoints/faster_rcnn_r50fb_fpn_1x_voc0712_20221208.pth')"
   ]
  },
  {
   "cell_type": "code",
   "execution_count": 2,
   "metadata": {},
   "outputs": [
    {
     "name": "stdout",
     "output_type": "stream",
     "text": [
      "load checkpoint from local path: checkpoints/faster_rcnn_r50fb_fpn_1x_voc0712_20221208.pth\n",
      "The model and loaded state dict do not match exactly\n",
      "\n",
      "missing keys in source state_dict: backbone.fb_con.conv.weight, backbone.fb_con.conv.bias\n",
      "\n"
     ]
    },
    {
     "name": "stderr",
     "output_type": "stream",
     "text": [
      "c:\\Users\\lerch\\Documents\\Studium\\Master\\WiSe22\\Project_CV\\Code\\MMdetectionRobustness\\mmdet\\datasets\\utils.py:66: UserWarning: \"ImageToTensor\" pipeline is replaced by \"DefaultFormatBundle\" for batch inference. It is recommended to manually replace it in the test data pipeline in your config file.\n",
      "  warnings.warn(\n"
     ]
    }
   ],
   "source": [
    "from mmdet.apis import init_detector, inference_detector\n",
    "import mmcv\n",
    "\n",
    "# Specify the path to model config and checkpoint file\n",
    "config_file = 'configs/pascal_voc/faster_rcnn_r50fb_fpn_1x_voc0712.py'\n",
    "checkpoint_file = 'checkpoints/faster_rcnn_r50fb_fpn_1x_voc0712_20221208.pth'\n",
    "\n",
    "# build the model from a config file and a checkpoint file\n",
    "#model = init_detector(config_file, checkpoint_file, device='cpu')\n",
    "model = init_detector(config_file, checkpoint_file, device='cuda:0')\n",
    "\n",
    "# will only load it once\n",
    "img = mmcv.imread(\"demo/demo.jpg\")\n",
    "result = inference_detector(model, img)\n",
    "# visualize the results in a new window\n",
    "model.show_result(img, result, out_file='output/result.jpg')"
   ]
  }
 ],
 "metadata": {
  "kernelspec": {
   "display_name": "Python 3.8.15 ('cv_project')",
   "language": "python",
   "name": "python3"
  },
  "language_info": {
   "codemirror_mode": {
    "name": "ipython",
    "version": 3
   },
   "file_extension": ".py",
   "mimetype": "text/x-python",
   "name": "python",
   "nbconvert_exporter": "python",
   "pygments_lexer": "ipython3",
   "version": "3.8.15"
  },
  "orig_nbformat": 4,
  "vscode": {
   "interpreter": {
    "hash": "6d99687c979af933fc8e3faa1bd1f4cb02dc6c777cd646580ab222f437424c44"
   }
  }
 },
 "nbformat": 4,
 "nbformat_minor": 2
}
