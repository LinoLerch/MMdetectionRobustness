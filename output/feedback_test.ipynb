{
 "cells": [
  {
   "cell_type": "markdown",
   "metadata": {},
   "source": [
    "### ResNet 50 output sizes of stages"
   ]
  },
  {
   "cell_type": "code",
   "execution_count": 4,
   "metadata": {},
   "outputs": [],
   "source": [
    "# surpress UserWarnings\n",
    "import warnings\n",
    "warnings.filterwarnings(action='ignore', category=UserWarning)"
   ]
  },
  {
   "cell_type": "code",
   "execution_count": 5,
   "metadata": {},
   "outputs": [
    {
     "name": "stdout",
     "output_type": "stream",
     "text": [
      "(1, 256, 56, 56)\n",
      "(1, 512, 28, 28)\n",
      "(1, 1024, 14, 14)\n",
      "(1, 2048, 7, 7)\n"
     ]
    }
   ],
   "source": [
    "from mmdet.models import ResNet\n",
    "import torch\n",
    "res50 = ResNet(depth=50)\n",
    "res50.eval()\n",
    "inputs =  torch.rand(1, 3, 224, 224)\n",
    "level_outputs = res50.forward(inputs)\n",
    "for level_out in level_outputs:\n",
    "    print(tuple(level_out.shape))"
   ]
  },
  {
   "cell_type": "markdown",
   "metadata": {},
   "source": [
    "### adjust keys in checkpoint weights file"
   ]
  },
  {
   "cell_type": "code",
   "execution_count": 1,
   "metadata": {},
   "outputs": [],
   "source": [
    "import torch\n",
    "root_path = \"../../../\"\n",
    "checkpoint = torch.load(f'{root_path}checkpoints/faster_rcnn_r50_fpn_1x_voc0712_20220320_192712-54bef0f3.pth')\n",
    "state_dict = checkpoint['state_dict']\n",
    "for key in list(state_dict.keys()):\n",
    "    state_dict[key.replace(\"backbone.\",\"backbone.resnet.\")] = state_dict.pop(key)\n",
    "checkpoint['state_dict'] = state_dict\n",
    "torch.save(checkpoint, f'{root_path}checkpoints/faster_rcnn_r50fb_fpn_1x_voc0712_20221208.pth')"
   ]
  },
  {
   "cell_type": "markdown",
   "metadata": {},
   "source": [
    "### Test inference FeedbackNet"
   ]
  },
  {
   "cell_type": "code",
   "execution_count": null,
   "metadata": {},
   "outputs": [],
   "source": [
    "from mmdet.apis import init_detector, inference_detector\n",
    "import mmcv\n",
    "\n",
    "root_path = \"../../../\"\n",
    "# Specify the path to model config and checkpoint file\n",
    "config_file = f'{root_path}configs/pascal_voc/faster_rcnn_r50fbadd_fpn_1x_voc0712.py'\n",
    "checkpoint_file = f'{root_path}checkpoints/faster_rcnn_r50fb_fpn_1x_voc0712_20221208.pth'\n",
    "\n",
    "# build the model from a config file and a checkpoint file\n",
    "#model = init_detector(config_file, checkpoint_file, device='cpu')\n",
    "model = init_detector(config_file, checkpoint_file, device='cpu')"
   ]
  },
  {
   "cell_type": "code",
   "execution_count": 5,
   "metadata": {},
   "outputs": [],
   "source": [
    "# will only load it once\n",
    "img = mmcv.imread(f'{root_path}demo/demo.jpg')\n",
    "result = inference_detector(model, img)\n",
    "# visualize the results in a new window\n",
    "model.show_result(img, result, out_file=f'{root_path}output/result.jpg')"
   ]
  },
  {
   "cell_type": "markdown",
   "metadata": {},
   "source": [
    "### Model summary"
   ]
  },
  {
   "cell_type": "code",
   "execution_count": null,
   "metadata": {},
   "outputs": [],
   "source": [
    "# Print model's state_dict\n",
    "# print(\"Model's state_dict:\")\n",
    "# for param_tensor in model.state_dict():\n",
    "#     print(param_tensor, \"\\t\", model.state_dict()[param_tensor].size())\n",
    "\n",
    "#print(model)\n",
    "from torchsummary import summary\n",
    "summary(model)#, (1, 3, 224, 224))"
   ]
  },
  {
   "cell_type": "code",
   "execution_count": null,
   "metadata": {},
   "outputs": [],
   "source": [
    "from torchsummary import summary\n",
    "summary(res50, (1, 3, 224, 224))"
   ]
  },
  {
   "cell_type": "markdown",
   "metadata": {},
   "source": [
    "### Robustness Benchmark results"
   ]
  },
  {
   "cell_type": "code",
   "execution_count": 6,
   "metadata": {},
   "outputs": [],
   "source": [
    "import mmcv\n",
    "rob_fbmod = mmcv.load(\"evaluation/rob-bm_fb-mod.pkl\")\n",
    "rob_fbmod_results = mmcv.load(\"evaluation/rob-bm_fb-mod_results.pkl\")"
   ]
  },
  {
   "cell_type": "code",
   "execution_count": 10,
   "metadata": {},
   "outputs": [
    {
     "data": {
      "text/plain": [
       "{0: [{'ap': 0.8611395},\n",
       "  {'ap': 0.8624071},\n",
       "  {'ap': 0.795072},\n",
       "  {'ap': 0.71224385},\n",
       "  {'ap': 0.67824864},\n",
       "  {'ap': 0.8627916},\n",
       "  {'ap': 0.88581085},\n",
       "  {'ap': 0.8905615},\n",
       "  {'ap': 0.66129816},\n",
       "  {'ap': 0.8622946},\n",
       "  {'ap': 0.75168365},\n",
       "  {'ap': 0.8812101},\n",
       "  {'ap': 0.87912333},\n",
       "  {'ap': 0.8489476},\n",
       "  {'ap': 0.85577387},\n",
       "  {'ap': 0.56921345},\n",
       "  {'ap': 0.8410044},\n",
       "  {'ap': 0.80111444},\n",
       "  {'ap': 0.85281754},\n",
       "  {'ap': 0.768466}],\n",
       " 1: [{'ap': 0.7506241},\n",
       "  {'ap': 0.79606766},\n",
       "  {'ap': 0.72707963},\n",
       "  {'ap': 0.5402336},\n",
       "  {'ap': 0.5848283},\n",
       "  {'ap': 0.82268405},\n",
       "  {'ap': 0.851375},\n",
       "  {'ap': 0.7862084},\n",
       "  {'ap': 0.6062227},\n",
       "  {'ap': 0.8235061},\n",
       "  {'ap': 0.715005},\n",
       "  {'ap': 0.8281002},\n",
       "  {'ap': 0.85062295},\n",
       "  {'ap': 0.8408999},\n",
       "  {'ap': 0.7835589},\n",
       "  {'ap': 0.48582143},\n",
       "  {'ap': 0.74332947},\n",
       "  {'ap': 0.7526977},\n",
       "  {'ap': 0.78142697},\n",
       "  {'ap': 0.72074634}],\n",
       " 2: [{'ap': 0.67074007},\n",
       "  {'ap': 0.78501725},\n",
       "  {'ap': 0.6480822},\n",
       "  {'ap': 0.49208686},\n",
       "  {'ap': 0.56198925},\n",
       "  {'ap': 0.75929755},\n",
       "  {'ap': 0.7982586},\n",
       "  {'ap': 0.7860083},\n",
       "  {'ap': 0.56391674},\n",
       "  {'ap': 0.74955595},\n",
       "  {'ap': 0.6776966},\n",
       "  {'ap': 0.7617186},\n",
       "  {'ap': 0.83149046},\n",
       "  {'ap': 0.7814715},\n",
       "  {'ap': 0.7656351},\n",
       "  {'ap': 0.45255706},\n",
       "  {'ap': 0.6512713},\n",
       "  {'ap': 0.69079393},\n",
       "  {'ap': 0.75657254},\n",
       "  {'ap': 0.66762286}],\n",
       " 3: [{'ap': 0.4490305},\n",
       "  {'ap': 0.74167895},\n",
       "  {'ap': 0.4105213},\n",
       "  {'ap': 0.2578208},\n",
       "  {'ap': 0.41259173},\n",
       "  {'ap': 0.69039226},\n",
       "  {'ap': 0.7076954},\n",
       "  {'ap': 0.6712118},\n",
       "  {'ap': 0.46532154},\n",
       "  {'ap': 0.6202473},\n",
       "  {'ap': 0.5473826},\n",
       "  {'ap': 0.6291055},\n",
       "  {'ap': 0.7081177},\n",
       "  {'ap': 0.6615406},\n",
       "  {'ap': 0.591482},\n",
       "  {'ap': 0.305213},\n",
       "  {'ap': 0.43630582},\n",
       "  {'ap': 0.5482749},\n",
       "  {'ap': 0.6265269},\n",
       "  {'ap': 0.5573202}],\n",
       " 4: [{'ap': 0.29705963},\n",
       "  {'ap': 0.6587485},\n",
       "  {'ap': 0.27155498},\n",
       "  {'ap': 0.17392267},\n",
       "  {'ap': 0.39453602},\n",
       "  {'ap': 0.57021487},\n",
       "  {'ap': 0.6730246},\n",
       "  {'ap': 0.5786011},\n",
       "  {'ap': 0.39393628},\n",
       "  {'ap': 0.46835172},\n",
       "  {'ap': 0.44054842},\n",
       "  {'ap': 0.516136},\n",
       "  {'ap': 0.5867002},\n",
       "  {'ap': 0.6049567},\n",
       "  {'ap': 0.48954222},\n",
       "  {'ap': 0.22356586},\n",
       "  {'ap': 0.29472622},\n",
       "  {'ap': 0.40757027},\n",
       "  {'ap': 0.49907172},\n",
       "  {'ap': 0.46285638}],\n",
       " 5: [{'ap': 0.16407982},\n",
       "  {'ap': 0.51012176},\n",
       "  {'ap': 0.1797082},\n",
       "  {'ap': 0.117011696},\n",
       "  {'ap': 0.25707328},\n",
       "  {'ap': 0.4599147},\n",
       "  {'ap': 0.5271459},\n",
       "  {'ap': 0.45697883},\n",
       "  {'ap': 0.27716887},\n",
       "  {'ap': 0.28019497},\n",
       "  {'ap': 0.3208183},\n",
       "  {'ap': 0.39031592},\n",
       "  {'ap': 0.41648743},\n",
       "  {'ap': 0.43997696},\n",
       "  {'ap': 0.3676978},\n",
       "  {'ap': 0.14401871},\n",
       "  {'ap': 0.18204445},\n",
       "  {'ap': 0.25069243},\n",
       "  {'ap': 0.33687335},\n",
       "  {'ap': 0.39034197}]}"
      ]
     },
     "execution_count": 10,
     "metadata": {},
     "output_type": "execute_result"
    }
   ],
   "source": [
    "rob_fbmod_results\n",
    "rob_fbmod_results['speckle_noise']"
   ]
  },
  {
   "cell_type": "code",
   "execution_count": 3,
   "metadata": {},
   "outputs": [
    {
     "data": {
      "text/plain": [
       "array([9.7176231e+01, 9.3941269e+00, 3.5300000e+02, 3.0582852e+02,\n",
       "       2.6860243e-01], dtype=float32)"
      ]
     },
     "execution_count": 3,
     "metadata": {},
     "output_type": "execute_result"
    }
   ],
   "source": [
    "rob_fbmod\n",
    "rob_fbmod[0][14][1]"
   ]
  },
  {
   "attachments": {},
   "cell_type": "markdown",
   "metadata": {},
   "source": [
    "rob_fmod:\n",
    "\n",
    "| 4952  |  20    |    n     |   5   |\n",
    "|---|---|---|---|\n",
    "|images |classes | detected bboxes | bbox + certainty |\n",
    "                     "
   ]
  },
  {
   "cell_type": "code",
   "execution_count": null,
   "metadata": {},
   "outputs": [],
   "source": [
    "\"\"\" 20 classes of PASCAL VOC\n",
    " 0: aeroplane\n",
    " 1: bicycle\n",
    " 2: bird\n",
    " 3: boat\n",
    " 4: bottle\n",
    " 5: bus\n",
    " 6: car\n",
    " 7: cat\n",
    " 8: chair\n",
    " 9: cow\n",
    "10: diningtable\n",
    "11: dog\n",
    "12: horse\n",
    "13: motorbike\n",
    "14: person\n",
    "15: pottedplant\n",
    "16: sheep\n",
    "17: sofa\n",
    "18: train\n",
    "19: tvmonitor\n",
    "\"\"\""
   ]
  }
 ],
 "metadata": {
  "kernelspec": {
   "display_name": "cv_project",
   "language": "python",
   "name": "python3"
  },
  "language_info": {
   "codemirror_mode": {
    "name": "ipython",
    "version": 3
   },
   "file_extension": ".py",
   "mimetype": "text/x-python",
   "name": "python",
   "nbconvert_exporter": "python",
   "pygments_lexer": "ipython3",
   "version": "3.8.15"
  },
  "vscode": {
   "interpreter": {
    "hash": "6d99687c979af933fc8e3faa1bd1f4cb02dc6c777cd646580ab222f437424c44"
   }
  }
 },
 "nbformat": 4,
 "nbformat_minor": 4
}
